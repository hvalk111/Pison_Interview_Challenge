{
 "cells": [
  {
   "cell_type": "code",
   "execution_count": 1,
   "metadata": {},
   "outputs": [],
   "source": [
    "import pandas as pd\n",
    "import numpy as np\n",
    "import matplotlib.pyplot as plt\n",
    "from sklearn.cluster import KMeans\n",
    "import scipy.cluster.hierarchy as shc\n",
    "from sklearn.cluster import AgglomerativeClustering \n",
    "from sklearn.metrics import silhouette_score"
   ]
  },
  {
   "cell_type": "markdown",
   "metadata": {},
   "source": [
    "# Clustering Analysis"
   ]
  },
  {
   "cell_type": "code",
   "execution_count": 2,
   "metadata": {},
   "outputs": [],
   "source": [
    "data_pca = pd.read_csv(\"./outputs/data_pca_03.csv\")"
   ]
  },
  {
   "cell_type": "markdown",
   "metadata": {},
   "source": [
    "#### Use first 4 components in clustering analysis"
   ]
  },
  {
   "cell_type": "code",
   "execution_count": 3,
   "metadata": {},
   "outputs": [
    {
     "data": {
      "text/html": [
       "<div>\n",
       "<style scoped>\n",
       "    .dataframe tbody tr th:only-of-type {\n",
       "        vertical-align: middle;\n",
       "    }\n",
       "\n",
       "    .dataframe tbody tr th {\n",
       "        vertical-align: top;\n",
       "    }\n",
       "\n",
       "    .dataframe thead th {\n",
       "        text-align: right;\n",
       "    }\n",
       "</style>\n",
       "<table border=\"1\" class=\"dataframe\">\n",
       "  <thead>\n",
       "    <tr style=\"text-align: right;\">\n",
       "      <th></th>\n",
       "      <th>0</th>\n",
       "      <th>1</th>\n",
       "      <th>2</th>\n",
       "      <th>3</th>\n",
       "    </tr>\n",
       "  </thead>\n",
       "  <tbody>\n",
       "    <tr>\n",
       "      <th>0</th>\n",
       "      <td>1.522264</td>\n",
       "      <td>-2.368892</td>\n",
       "      <td>1.262914</td>\n",
       "      <td>-1.970251</td>\n",
       "    </tr>\n",
       "    <tr>\n",
       "      <th>1</th>\n",
       "      <td>0.196287</td>\n",
       "      <td>-1.907848</td>\n",
       "      <td>1.274403</td>\n",
       "      <td>-0.759929</td>\n",
       "    </tr>\n",
       "    <tr>\n",
       "      <th>2</th>\n",
       "      <td>-0.020496</td>\n",
       "      <td>-2.419280</td>\n",
       "      <td>0.008452</td>\n",
       "      <td>-0.039067</td>\n",
       "    </tr>\n",
       "    <tr>\n",
       "      <th>3</th>\n",
       "      <td>-0.205647</td>\n",
       "      <td>-2.615127</td>\n",
       "      <td>0.569245</td>\n",
       "      <td>-0.329614</td>\n",
       "    </tr>\n",
       "    <tr>\n",
       "      <th>4</th>\n",
       "      <td>0.626374</td>\n",
       "      <td>-2.653085</td>\n",
       "      <td>-0.095699</td>\n",
       "      <td>0.956294</td>\n",
       "    </tr>\n",
       "    <tr>\n",
       "      <th>5</th>\n",
       "      <td>0.044464</td>\n",
       "      <td>-2.333370</td>\n",
       "      <td>0.097017</td>\n",
       "      <td>0.786914</td>\n",
       "    </tr>\n",
       "    <tr>\n",
       "      <th>6</th>\n",
       "      <td>1.574458</td>\n",
       "      <td>-2.196548</td>\n",
       "      <td>0.526860</td>\n",
       "      <td>-2.067815</td>\n",
       "    </tr>\n",
       "    <tr>\n",
       "      <th>7</th>\n",
       "      <td>1.046091</td>\n",
       "      <td>-2.857860</td>\n",
       "      <td>0.083131</td>\n",
       "      <td>-1.001705</td>\n",
       "    </tr>\n",
       "    <tr>\n",
       "      <th>8</th>\n",
       "      <td>0.516448</td>\n",
       "      <td>-3.466033</td>\n",
       "      <td>0.271093</td>\n",
       "      <td>0.521427</td>\n",
       "    </tr>\n",
       "    <tr>\n",
       "      <th>9</th>\n",
       "      <td>1.081697</td>\n",
       "      <td>-2.694990</td>\n",
       "      <td>0.856334</td>\n",
       "      <td>0.151628</td>\n",
       "    </tr>\n",
       "    <tr>\n",
       "      <th>10</th>\n",
       "      <td>1.456828</td>\n",
       "      <td>-2.058716</td>\n",
       "      <td>2.431220</td>\n",
       "      <td>-0.126357</td>\n",
       "    </tr>\n",
       "    <tr>\n",
       "      <th>11</th>\n",
       "      <td>0.600487</td>\n",
       "      <td>-1.427451</td>\n",
       "      <td>1.621468</td>\n",
       "      <td>-0.114543</td>\n",
       "    </tr>\n",
       "    <tr>\n",
       "      <th>12</th>\n",
       "      <td>0.050774</td>\n",
       "      <td>-0.813389</td>\n",
       "      <td>2.629095</td>\n",
       "      <td>-0.400375</td>\n",
       "    </tr>\n",
       "    <tr>\n",
       "      <th>13</th>\n",
       "      <td>-1.718277</td>\n",
       "      <td>0.119801</td>\n",
       "      <td>5.977054</td>\n",
       "      <td>1.191117</td>\n",
       "    </tr>\n",
       "    <tr>\n",
       "      <th>14</th>\n",
       "      <td>-2.012470</td>\n",
       "      <td>-0.070215</td>\n",
       "      <td>5.135983</td>\n",
       "      <td>1.281617</td>\n",
       "    </tr>\n",
       "    <tr>\n",
       "      <th>15</th>\n",
       "      <td>-1.829080</td>\n",
       "      <td>-0.533952</td>\n",
       "      <td>-0.845339</td>\n",
       "      <td>0.495313</td>\n",
       "    </tr>\n",
       "    <tr>\n",
       "      <th>16</th>\n",
       "      <td>-1.849963</td>\n",
       "      <td>-0.327702</td>\n",
       "      <td>-1.290336</td>\n",
       "      <td>0.557347</td>\n",
       "    </tr>\n",
       "    <tr>\n",
       "      <th>17</th>\n",
       "      <td>-3.067631</td>\n",
       "      <td>-0.519689</td>\n",
       "      <td>-1.175313</td>\n",
       "      <td>1.145861</td>\n",
       "    </tr>\n",
       "    <tr>\n",
       "      <th>18</th>\n",
       "      <td>-1.919748</td>\n",
       "      <td>0.069000</td>\n",
       "      <td>-0.612372</td>\n",
       "      <td>-0.982650</td>\n",
       "    </tr>\n",
       "    <tr>\n",
       "      <th>19</th>\n",
       "      <td>-1.239638</td>\n",
       "      <td>0.274906</td>\n",
       "      <td>-0.817967</td>\n",
       "      <td>-1.113357</td>\n",
       "    </tr>\n",
       "    <tr>\n",
       "      <th>20</th>\n",
       "      <td>-3.299542</td>\n",
       "      <td>0.673188</td>\n",
       "      <td>-1.255228</td>\n",
       "      <td>-0.207526</td>\n",
       "    </tr>\n",
       "    <tr>\n",
       "      <th>21</th>\n",
       "      <td>-2.316539</td>\n",
       "      <td>0.615310</td>\n",
       "      <td>-1.796589</td>\n",
       "      <td>0.427661</td>\n",
       "    </tr>\n",
       "    <tr>\n",
       "      <th>22</th>\n",
       "      <td>-2.145679</td>\n",
       "      <td>0.445543</td>\n",
       "      <td>-2.362150</td>\n",
       "      <td>1.553860</td>\n",
       "    </tr>\n",
       "    <tr>\n",
       "      <th>23</th>\n",
       "      <td>-2.809416</td>\n",
       "      <td>0.570871</td>\n",
       "      <td>-1.474737</td>\n",
       "      <td>0.290306</td>\n",
       "    </tr>\n",
       "    <tr>\n",
       "      <th>24</th>\n",
       "      <td>-2.492501</td>\n",
       "      <td>1.135070</td>\n",
       "      <td>-1.288565</td>\n",
       "      <td>0.296391</td>\n",
       "    </tr>\n",
       "    <tr>\n",
       "      <th>25</th>\n",
       "      <td>-2.384074</td>\n",
       "      <td>1.612039</td>\n",
       "      <td>-1.754812</td>\n",
       "      <td>-0.203952</td>\n",
       "    </tr>\n",
       "    <tr>\n",
       "      <th>26</th>\n",
       "      <td>-3.374741</td>\n",
       "      <td>1.630276</td>\n",
       "      <td>-0.002019</td>\n",
       "      <td>-0.172200</td>\n",
       "    </tr>\n",
       "    <tr>\n",
       "      <th>27</th>\n",
       "      <td>-4.840760</td>\n",
       "      <td>4.044693</td>\n",
       "      <td>0.946828</td>\n",
       "      <td>-0.529948</td>\n",
       "    </tr>\n",
       "    <tr>\n",
       "      <th>28</th>\n",
       "      <td>-5.862381</td>\n",
       "      <td>5.130911</td>\n",
       "      <td>1.396836</td>\n",
       "      <td>-2.080507</td>\n",
       "    </tr>\n",
       "    <tr>\n",
       "      <th>29</th>\n",
       "      <td>2.101904</td>\n",
       "      <td>-0.193033</td>\n",
       "      <td>-1.448124</td>\n",
       "      <td>-1.373908</td>\n",
       "    </tr>\n",
       "    <tr>\n",
       "      <th>30</th>\n",
       "      <td>2.583327</td>\n",
       "      <td>-0.040980</td>\n",
       "      <td>-1.758451</td>\n",
       "      <td>-1.234384</td>\n",
       "    </tr>\n",
       "    <tr>\n",
       "      <th>31</th>\n",
       "      <td>2.682516</td>\n",
       "      <td>1.398883</td>\n",
       "      <td>-1.514999</td>\n",
       "      <td>-2.252536</td>\n",
       "    </tr>\n",
       "    <tr>\n",
       "      <th>32</th>\n",
       "      <td>3.369401</td>\n",
       "      <td>0.415739</td>\n",
       "      <td>-1.694455</td>\n",
       "      <td>0.674788</td>\n",
       "    </tr>\n",
       "    <tr>\n",
       "      <th>33</th>\n",
       "      <td>1.564759</td>\n",
       "      <td>0.754017</td>\n",
       "      <td>-1.508339</td>\n",
       "      <td>1.139296</td>\n",
       "    </tr>\n",
       "    <tr>\n",
       "      <th>34</th>\n",
       "      <td>2.386282</td>\n",
       "      <td>0.225498</td>\n",
       "      <td>-1.201317</td>\n",
       "      <td>4.993693</td>\n",
       "    </tr>\n",
       "    <tr>\n",
       "      <th>35</th>\n",
       "      <td>1.008627</td>\n",
       "      <td>0.054871</td>\n",
       "      <td>-1.616064</td>\n",
       "      <td>2.967438</td>\n",
       "    </tr>\n",
       "    <tr>\n",
       "      <th>36</th>\n",
       "      <td>2.998839</td>\n",
       "      <td>0.194426</td>\n",
       "      <td>-1.370725</td>\n",
       "      <td>-0.182333</td>\n",
       "    </tr>\n",
       "    <tr>\n",
       "      <th>37</th>\n",
       "      <td>3.734295</td>\n",
       "      <td>0.775753</td>\n",
       "      <td>-1.203450</td>\n",
       "      <td>-3.058832</td>\n",
       "    </tr>\n",
       "    <tr>\n",
       "      <th>38</th>\n",
       "      <td>4.389416</td>\n",
       "      <td>3.890517</td>\n",
       "      <td>0.181795</td>\n",
       "      <td>-0.529768</td>\n",
       "    </tr>\n",
       "    <tr>\n",
       "      <th>39</th>\n",
       "      <td>7.853043</td>\n",
       "      <td>7.466849</td>\n",
       "      <td>2.817323</td>\n",
       "      <td>1.300605</td>\n",
       "    </tr>\n",
       "  </tbody>\n",
       "</table>\n",
       "</div>"
      ],
      "text/plain": [
       "           0         1         2         3\n",
       "0   1.522264 -2.368892  1.262914 -1.970251\n",
       "1   0.196287 -1.907848  1.274403 -0.759929\n",
       "2  -0.020496 -2.419280  0.008452 -0.039067\n",
       "3  -0.205647 -2.615127  0.569245 -0.329614\n",
       "4   0.626374 -2.653085 -0.095699  0.956294\n",
       "5   0.044464 -2.333370  0.097017  0.786914\n",
       "6   1.574458 -2.196548  0.526860 -2.067815\n",
       "7   1.046091 -2.857860  0.083131 -1.001705\n",
       "8   0.516448 -3.466033  0.271093  0.521427\n",
       "9   1.081697 -2.694990  0.856334  0.151628\n",
       "10  1.456828 -2.058716  2.431220 -0.126357\n",
       "11  0.600487 -1.427451  1.621468 -0.114543\n",
       "12  0.050774 -0.813389  2.629095 -0.400375\n",
       "13 -1.718277  0.119801  5.977054  1.191117\n",
       "14 -2.012470 -0.070215  5.135983  1.281617\n",
       "15 -1.829080 -0.533952 -0.845339  0.495313\n",
       "16 -1.849963 -0.327702 -1.290336  0.557347\n",
       "17 -3.067631 -0.519689 -1.175313  1.145861\n",
       "18 -1.919748  0.069000 -0.612372 -0.982650\n",
       "19 -1.239638  0.274906 -0.817967 -1.113357\n",
       "20 -3.299542  0.673188 -1.255228 -0.207526\n",
       "21 -2.316539  0.615310 -1.796589  0.427661\n",
       "22 -2.145679  0.445543 -2.362150  1.553860\n",
       "23 -2.809416  0.570871 -1.474737  0.290306\n",
       "24 -2.492501  1.135070 -1.288565  0.296391\n",
       "25 -2.384074  1.612039 -1.754812 -0.203952\n",
       "26 -3.374741  1.630276 -0.002019 -0.172200\n",
       "27 -4.840760  4.044693  0.946828 -0.529948\n",
       "28 -5.862381  5.130911  1.396836 -2.080507\n",
       "29  2.101904 -0.193033 -1.448124 -1.373908\n",
       "30  2.583327 -0.040980 -1.758451 -1.234384\n",
       "31  2.682516  1.398883 -1.514999 -2.252536\n",
       "32  3.369401  0.415739 -1.694455  0.674788\n",
       "33  1.564759  0.754017 -1.508339  1.139296\n",
       "34  2.386282  0.225498 -1.201317  4.993693\n",
       "35  1.008627  0.054871 -1.616064  2.967438\n",
       "36  2.998839  0.194426 -1.370725 -0.182333\n",
       "37  3.734295  0.775753 -1.203450 -3.058832\n",
       "38  4.389416  3.890517  0.181795 -0.529768\n",
       "39  7.853043  7.466849  2.817323  1.300605"
      ]
     },
     "execution_count": 3,
     "metadata": {},
     "output_type": "execute_result"
    }
   ],
   "source": [
    "data_pca = data_pca[[\"0\",\"1\",\"2\",\"3\"]]\n",
    "data_pca"
   ]
  },
  {
   "cell_type": "markdown",
   "metadata": {},
   "source": [
    "## Agglomerative Clustering\n",
    "> identifies 3 clusters within pca data"
   ]
  },
  {
   "cell_type": "code",
   "execution_count": 4,
   "metadata": {},
   "outputs": [
    {
     "data": {
      "image/png": "[encoded data removed]",
      "text/plain": [
       "<Figure size 1152x1152 with 1 Axes>"
      ]
     },
     "metadata": {
      "needs_background": "light"
     },
     "output_type": "display_data"
    }
   ],
   "source": [
    "plt.figure(figsize =(16, 16)) \n",
    "\n",
    "plt.title('PCA data Dendrogram') \n",
    "\n",
    "Dendrogram = shc.dendrogram((shc.linkage(data_pca, method ='ward')))"
   ]
  },
  {
   "cell_type": "markdown",
   "metadata": {},
   "source": [
    "### Compare results with different number of clusters"
   ]
  },
  {
   "cell_type": "code",
   "execution_count": 5,
   "metadata": {},
   "outputs": [
    {
     "data": {
      "image/png": "[encoded data removed]",
      "text/plain": [
       "<Figure size 432x288 with 1 Axes>"
      ]
     },
     "metadata": {
      "needs_background": "light"
     },
     "output_type": "display_data"
    },
    {
     "name": "stdout",
     "output_type": "stream",
     "text": [
      "0.4108563460678141\n"
     ]
    }
   ],
   "source": [
    "silhouette_scores = [] \n",
    "\n",
    "for n_cluster in range(2, 8):\n",
    "    silhouette_scores.append( \n",
    "        silhouette_score(data_pca, AgglomerativeClustering(n_clusters = n_cluster).fit_predict(data_pca))) \n",
    "    \n",
    "# Plotting a bar graph to compare the results \n",
    "k = [2, 3, 4, 5, 6, 7] \n",
    "plt.bar(k, silhouette_scores) \n",
    "plt.xlabel('Number of clusters', fontsize = 10) \n",
    "plt.ylabel('Silhouette Score', fontsize = 10) \n",
    "plt.show() \n",
    "print(silhouette_scores[1])"
   ]
  },
  {
   "cell_type": "code",
   "execution_count": 6,
   "metadata": {},
   "outputs": [
    {
     "data": {
      "image/png": "[encoded data removed]",
      "text/plain": [
       "<Figure size 432x288 with 1 Axes>"
      ]
     },
     "metadata": {
      "needs_background": "light"
     },
     "output_type": "display_data"
    }
   ],
   "source": [
    "# Visualize the clustering \n",
    "\n",
    "plt.scatter(data_pca[\"0\"], data_pca[\"2\"],  \n",
    "           c = AgglomerativeClustering(n_clusters = 3).fit_predict(data_pca))\n",
    "plt.title(\"Agglomerative Clusters: PCA1 x PCA3\")\n",
    "plt.show()"
   ]
  },
  {
   "cell_type": "markdown",
   "metadata": {},
   "source": [
    "### Vizualize clusters by window\n",
    "> stair-step pattern reveals that clusters are grouped by repetition, as was observed in gesture reconstruction"
   ]
  },
  {
   "cell_type": "code",
   "execution_count": 7,
   "metadata": {},
   "outputs": [],
   "source": [
    "agg = AgglomerativeClustering(n_clusters=3, affinity = 'euclidean', linkage = 'ward')\n",
    "cluster_preds = agg.fit_predict(data_pca)\n",
    "data_pca['preds'] = cluster_preds"
   ]
  },
  {
   "cell_type": "code",
   "execution_count": 8,
   "metadata": {
    "scrolled": true
   },
   "outputs": [
    {
     "data": {
      "image/png": "[encoded data removed]",
      "text/plain": [
       "<Figure size 432x288 with 1 Axes>"
      ]
     },
     "metadata": {
      "needs_background": "light"
     },
     "output_type": "display_data"
    }
   ],
   "source": [
    "plt.plot(data_pca.index, data_pca['preds'].tolist())\n",
    "plt.title(\"Cluster class by window\");"
   ]
  },
  {
   "cell_type": "markdown",
   "metadata": {},
   "source": [
    "## K-means Clustering"
   ]
  },
  {
   "cell_type": "code",
   "execution_count": 9,
   "metadata": {},
   "outputs": [
    {
     "data": {
      "text/plain": [
       "array([1, 1, 1, 1, 1, 1, 1, 1, 1, 1, 1, 1, 1, 1, 1, 0, 0, 0, 0, 0, 0, 0,\n",
       "       0, 0, 0, 0, 0, 0, 0, 2, 2, 2, 2, 2, 2, 2, 2, 2, 2, 2], dtype=int32)"
      ]
     },
     "execution_count": 9,
     "metadata": {},
     "output_type": "execute_result"
    }
   ],
   "source": [
    "kmeans = KMeans(n_clusters=3, random_state=42).fit(data_pca)\n",
    "kmeans.labels_"
   ]
  },
  {
   "cell_type": "code",
   "execution_count": 10,
   "metadata": {},
   "outputs": [
    {
     "data": {
      "image/png": "[encoded data removed]",
      "text/plain": [
       "<Figure size 432x288 with 1 Axes>"
      ]
     },
     "metadata": {
      "needs_background": "light"
     },
     "output_type": "display_data"
    }
   ],
   "source": [
    "# Visualize the clustering \n",
    "\n",
    "plt.scatter(data_pca[\"0\"], data_pca[\"2\"],  \n",
    "           c = kmeans.labels_)\n",
    "plt.title(\"Kmeans Clusters: PCA1 x PCA3\")\n",
    "plt.show()"
   ]
  },
  {
   "cell_type": "code",
   "execution_count": 11,
   "metadata": {},
   "outputs": [],
   "source": [
    "preds = kmeans.fit_predict(data_pca)\n",
    "data_pca['preds'] = preds"
   ]
  },
  {
   "cell_type": "code",
   "execution_count": 12,
   "metadata": {},
   "outputs": [
    {
     "data": {
      "image/png": "[encoded data removed]",
      "text/plain": [
       "<Figure size 432x288 with 1 Axes>"
      ]
     },
     "metadata": {
      "needs_background": "light"
     },
     "output_type": "display_data"
    }
   ],
   "source": [
    "plt.plot(data_pca.index, data_pca['preds'].tolist())\n",
    "plt.title(\"Cluster class by window\");"
   ]
  },
  {
   "cell_type": "markdown",
   "metadata": {},
   "source": [
    "## Elbow Method: K size validation\n",
    "> \"kink\" in curve at k=3 further validates observation of 3 clusters, which are here being interpretted as 3 unique gestures"
   ]
  },
  {
   "cell_type": "code",
   "execution_count": 13,
   "metadata": {},
   "outputs": [
    {
     "data": {
      "image/png": "[encoded data removed]",
      "text/plain": [
       "<Figure size 432x288 with 1 Axes>"
      ]
     },
     "metadata": {
      "needs_background": "light"
     },
     "output_type": "display_data"
    }
   ],
   "source": [
    "from sklearn import metrics\n",
    "from scipy.spatial import distance\n",
    "\n",
    "# k means determine k\n",
    "distortions = []\n",
    "K = range(1,10)\n",
    "for k in K:\n",
    "    kmeanModel = KMeans(n_clusters=k).fit(data_pca)\n",
    "    kmeanModel.fit(data_pca)\n",
    "    distortions.append(sum(np.min(distance.cdist(data_pca, kmeanModel.cluster_centers_, 'euclidean'), axis=1)) / data_pca.shape[0])\n",
    "# Plot the elbow\n",
    "plt.plot(K, distortions, 'bx-')\n",
    "plt.plot(K[2], distortions[2], 'ro')\n",
    "plt.xlabel('k')\n",
    "plt.ylabel('Distortion')\n",
    "plt.title('Elbow Method: optimal k')\n",
    "plt.show()\n"
   ]
  }
 ],
 "metadata": {
  "kernelspec": {
   "display_name": "Python 3",
   "language": "python",
   "name": "python3"
  },
  "language_info": {
   "codemirror_mode": {
    "name": "ipython",
    "version": 3
   },
   "file_extension": ".py",
   "mimetype": "text/x-python",
   "name": "python",
   "nbconvert_exporter": "python",
   "pygments_lexer": "ipython3",
   "version": "3.7.6"
  }
 },
 "nbformat": 4,
 "nbformat_minor": 4
}
