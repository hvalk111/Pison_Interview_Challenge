{
 "cells": [
  {
   "cell_type": "code",
   "execution_count": 32,
   "metadata": {},
   "outputs": [],
   "source": [
    "import pandas as pd\n",
    "import numpy as np\n",
    "import matplotlib.pyplot as plt\n",
    "import scipy.integrate\n",
    "import statistics\n",
    "import math\n",
    "from sklearn.decomposition import PCA\n",
    "from sklearn.preprocessing import StandardScaler\n",
    "from numpy.lib.stride_tricks import as_strided"
   ]
  },
  {
   "cell_type": "code",
   "execution_count": 33,
   "metadata": {},
   "outputs": [],
   "source": [
    "data = pd.read_csv(\"./pison_data_interview.csv\", header=None, names=[\"timestamp\",\"chan0_raw\",\"chan1_raw\",\"chan0_hp\",\"chan1_hp\",\"quat_x\",\"quat_y\",\"quat_z\",\"quat_w\",\"gyro_x\",\"gyro_y\",\"gyro_z\",\"acc_x\",\"acc_y\",\"acc_z\",\"label\",\"rep\"])\n",
    "eng_data = data[[\"timestamp\",\"chan0_hp\",\"chan1_hp\",\"label\"]]"
   ]
  },
  {
   "cell_type": "code",
   "execution_count": 34,
   "metadata": {},
   "outputs": [
    {
     "data": {
      "text/html": [
       "<div>\n",
       "<style scoped>\n",
       "    .dataframe tbody tr th:only-of-type {\n",
       "        vertical-align: middle;\n",
       "    }\n",
       "\n",
       "    .dataframe tbody tr th {\n",
       "        vertical-align: top;\n",
       "    }\n",
       "\n",
       "    .dataframe thead th {\n",
       "        text-align: right;\n",
       "    }\n",
       "</style>\n",
       "<table border=\"1\" class=\"dataframe\">\n",
       "  <thead>\n",
       "    <tr style=\"text-align: right;\">\n",
       "      <th></th>\n",
       "      <th>timestamp</th>\n",
       "      <th>chan0_hp</th>\n",
       "      <th>chan1_hp</th>\n",
       "      <th>label</th>\n",
       "    </tr>\n",
       "  </thead>\n",
       "  <tbody>\n",
       "    <tr>\n",
       "      <th>0</th>\n",
       "      <td>1514824.503</td>\n",
       "      <td>-11889</td>\n",
       "      <td>17295</td>\n",
       "      <td>0</td>\n",
       "    </tr>\n",
       "    <tr>\n",
       "      <th>1</th>\n",
       "      <td>1514827.496</td>\n",
       "      <td>-2063</td>\n",
       "      <td>13384</td>\n",
       "      <td>0</td>\n",
       "    </tr>\n",
       "    <tr>\n",
       "      <th>2</th>\n",
       "      <td>1514830.493</td>\n",
       "      <td>2757</td>\n",
       "      <td>16008</td>\n",
       "      <td>0</td>\n",
       "    </tr>\n",
       "    <tr>\n",
       "      <th>3</th>\n",
       "      <td>1514833.500</td>\n",
       "      <td>7504</td>\n",
       "      <td>5644</td>\n",
       "      <td>0</td>\n",
       "    </tr>\n",
       "    <tr>\n",
       "      <th>4</th>\n",
       "      <td>1514836.498</td>\n",
       "      <td>-3855</td>\n",
       "      <td>-15893</td>\n",
       "      <td>0</td>\n",
       "    </tr>\n",
       "  </tbody>\n",
       "</table>\n",
       "</div>"
      ],
      "text/plain": [
       "     timestamp  chan0_hp  chan1_hp  label\n",
       "0  1514824.503    -11889     17295      0\n",
       "1  1514827.496     -2063     13384      0\n",
       "2  1514830.493      2757     16008      0\n",
       "3  1514833.500      7504      5644      0\n",
       "4  1514836.498     -3855    -15893      0"
      ]
     },
     "execution_count": 34,
     "metadata": {},
     "output_type": "execute_result"
    }
   ],
   "source": [
    "eng_data.head()"
   ]
  },
  {
   "cell_type": "code",
   "execution_count": 35,
   "metadata": {},
   "outputs": [],
   "source": [
    "# find timestamp breaks to identify trial starts\n",
    "trial_idx = eng_data[(np.abs(eng_data.label.diff())>0)].index.tolist()\n",
    "trial_timestamp = eng_data.iloc[trial_idx].timestamp"
   ]
  },
  {
   "cell_type": "code",
   "execution_count": 36,
   "metadata": {},
   "outputs": [
    {
     "data": {
      "image/png": "[encoded data removed]",
      "text/plain": [
       "<Figure size 432x288 with 1 Axes>"
      ]
     },
     "metadata": {
      "needs_background": "light"
     },
     "output_type": "display_data"
    }
   ],
   "source": [
    "plt.plot(eng_data.timestamp, eng_data.chan0_hp)\n",
    "plt.vlines(trial_timestamp, ymin=-400000, ymax=600000);"
   ]
  },
  {
   "cell_type": "code",
   "execution_count": 37,
   "metadata": {},
   "outputs": [],
   "source": [
    "def windowed_view(arr, window, overlap):\n",
    "    arr = np.asarray(arr)\n",
    "    window_step = window - overlap\n",
    "    new_shape = arr.shape[:-1] + ((arr.shape[-1] - overlap) // window_step,\n",
    "                                  window)\n",
    "    new_strides = (arr.strides[:-1] + (window_step * arr.strides[-1],) +\n",
    "                   arr.strides[-1:])\n",
    "    return as_strided(arr, shape=new_shape, strides=new_strides)"
   ]
  },
  {
   "cell_type": "code",
   "execution_count": 38,
   "metadata": {},
   "outputs": [],
   "source": [
    "chan0_all_windows = []\n",
    "chan1_all_windows = []\n",
    "\n",
    "for trial_num in range(len(trial_idx)-1):\n",
    "    chan0_windows = windowed_view(eng_data.iloc[trial_idx[trial_num]:trial_idx[trial_num+1]].chan0_hp,60,20)\n",
    "    chan1_windows = windowed_view(eng_data.iloc[trial_idx[trial_num]:trial_idx[trial_num+1]].chan1_hp,60,20)\n",
    "    chan0_all_windows.append(chan0_windows.tolist())\n",
    "    chan1_all_windows.append(chan1_windows.tolist())\n",
    "    "
   ]
  },
  {
   "cell_type": "code",
   "execution_count": 39,
   "metadata": {},
   "outputs": [],
   "source": [
    "chan0_all_windows = [item for sublist in chan0_all_windows for item in sublist]\n",
    "chan1_all_windows = [item for sublist in chan1_all_windows for item in sublist]"
   ]
  },
  {
   "cell_type": "code",
   "execution_count": 40,
   "metadata": {},
   "outputs": [],
   "source": [
    "chan0_integrals = scipy.integrate.simps(chan0_all_windows)\n",
    "chan1_integrals = scipy.integrate.simps(chan0_all_windows)\n",
    "\n",
    "chan0_ln_variance = [statistics.variance(x) for x in chan0_all_windows]\n",
    "chan1_ln_variance = [statistics.variance(x) for x in chan1_all_windows]\n",
    "\n",
    "chan0_mean = [np.abs(np.mean(x)) for x in chan0_all_windows]\n",
    "chan1_mean = [np.abs(np.mean(x)) for x in chan1_all_windows]"
   ]
  },
  {
   "cell_type": "code",
   "execution_count": 41,
   "metadata": {},
   "outputs": [],
   "source": [
    "eng_features = pd.DataFrame({\"chan0_integrals\": chan0_integrals, \"chan1_integrals\": chan1_integrals, \"chan0_ln_variance\": chan0_ln_variance, \"chan1_ln_variance\": chan1_ln_variance, \"chan0_mean\": chan0_mean, \"chan1_mean\": chan1_mean})\n",
    "                  "
   ]
  },
  {
   "cell_type": "code",
   "execution_count": 42,
   "metadata": {},
   "outputs": [],
   "source": [
    "# Instantiate our StandardScaler.\n",
    "ss = StandardScaler()\n",
    "\n",
    "# Standardize X_train.\n",
    "eng_scaled = ss.fit_transform(eng_features)"
   ]
  },
  {
   "cell_type": "code",
   "execution_count": 43,
   "metadata": {},
   "outputs": [],
   "source": [
    "# Instantiate PCA.\n",
    "pca = PCA(random_state = 42)\n",
    "\n",
    "# Fit PCA on the training data.\n",
    "pca.fit(eng_scaled)\n",
    "\n",
    "PCA(copy=True, iterated_power='auto', n_components=None, random_state=42,\n",
    "    svd_solver='auto', tol=0.0, whiten=False)\n",
    "\n",
    "# Transform PCA on the training data.\n",
    "eng_pca = pca.transform(eng_scaled)"
   ]
  },
  {
   "cell_type": "code",
   "execution_count": 44,
   "metadata": {},
   "outputs": [
    {
     "name": "stdout",
     "output_type": "stream",
     "text": [
      "Explained variance: [0.401 0.342 0.123 0.089 0.046 0.   ]\n"
     ]
    }
   ],
   "source": [
    "var_exp = pca.explained_variance_ratio_\n",
    "print(f'Explained variance: {np.round(var_exp,3)}')"
   ]
  },
  {
   "cell_type": "code",
   "execution_count": 45,
   "metadata": {},
   "outputs": [
    {
     "data": {
      "image/png": "[encoded data removed]",
      "text/plain": [
       "<Figure size 432x288 with 1 Axes>"
      ]
     },
     "metadata": {
      "needs_background": "light"
     },
     "output_type": "display_data"
    }
   ],
   "source": [
    "plt.scatter(eng_pca[:,0],eng_pca[:,1], s=5);"
   ]
  }
 ],
 "metadata": {
  "kernelspec": {
   "display_name": "Python 3",
   "language": "python",
   "name": "python3"
  },
  "language_info": {
   "codemirror_mode": {
    "name": "ipython",
    "version": 3
   },
   "file_extension": ".py",
   "mimetype": "text/x-python",
   "name": "python",
   "nbconvert_exporter": "python",
   "pygments_lexer": "ipython3",
   "version": "3.7.6"
  }
 },
 "nbformat": 4,
 "nbformat_minor": 4
}
