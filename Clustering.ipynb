{
 "cells": [
  {
   "cell_type": "code",
   "execution_count": 53,
   "metadata": {},
   "outputs": [],
   "source": [
    "import pandas as pd\n",
    "import numpy as np\n",
    "import matplotlib.pyplot as plt\n",
    "from sklearn.cluster import KMeans\n",
    "import scipy.cluster.hierarchy as shc\n",
    "from sklearn.cluster import AgglomerativeClustering \n",
    "from sklearn.metrics import silhouette_score"
   ]
  },
  {
   "cell_type": "code",
   "execution_count": 54,
   "metadata": {},
   "outputs": [],
   "source": [
    "data_pca = pd.read_csv(\"./outputs/data_pca_01.csv\")"
   ]
  },
  {
   "cell_type": "code",
   "execution_count": 55,
   "metadata": {},
   "outputs": [
    {
     "data": {
      "text/html": [
       "<div>\n",
       "<style scoped>\n",
       "    .dataframe tbody tr th:only-of-type {\n",
       "        vertical-align: middle;\n",
       "    }\n",
       "\n",
       "    .dataframe tbody tr th {\n",
       "        vertical-align: top;\n",
       "    }\n",
       "\n",
       "    .dataframe thead th {\n",
       "        text-align: right;\n",
       "    }\n",
       "</style>\n",
       "<table border=\"1\" class=\"dataframe\">\n",
       "  <thead>\n",
       "    <tr style=\"text-align: right;\">\n",
       "      <th></th>\n",
       "      <th>0</th>\n",
       "      <th>1</th>\n",
       "      <th>2</th>\n",
       "      <th>3</th>\n",
       "    </tr>\n",
       "  </thead>\n",
       "  <tbody>\n",
       "    <tr>\n",
       "      <th>0</th>\n",
       "      <td>1.638548</td>\n",
       "      <td>-2.316269</td>\n",
       "      <td>1.266891</td>\n",
       "      <td>-2.153693</td>\n",
       "    </tr>\n",
       "    <tr>\n",
       "      <th>1</th>\n",
       "      <td>0.280055</td>\n",
       "      <td>-1.866923</td>\n",
       "      <td>1.302688</td>\n",
       "      <td>-0.776479</td>\n",
       "    </tr>\n",
       "    <tr>\n",
       "      <th>2</th>\n",
       "      <td>-0.149636</td>\n",
       "      <td>-2.433524</td>\n",
       "      <td>0.165711</td>\n",
       "      <td>0.210383</td>\n",
       "    </tr>\n",
       "    <tr>\n",
       "      <th>3</th>\n",
       "      <td>-0.124908</td>\n",
       "      <td>-2.584653</td>\n",
       "      <td>0.624249</td>\n",
       "      <td>-0.419475</td>\n",
       "    </tr>\n",
       "    <tr>\n",
       "      <th>4</th>\n",
       "      <td>0.509691</td>\n",
       "      <td>-2.652340</td>\n",
       "      <td>0.016879</td>\n",
       "      <td>1.265316</td>\n",
       "    </tr>\n",
       "    <tr>\n",
       "      <th>5</th>\n",
       "      <td>-0.080630</td>\n",
       "      <td>-2.346694</td>\n",
       "      <td>0.248327</td>\n",
       "      <td>0.899906</td>\n",
       "    </tr>\n",
       "    <tr>\n",
       "      <th>6</th>\n",
       "      <td>1.712343</td>\n",
       "      <td>-2.023573</td>\n",
       "      <td>0.402632</td>\n",
       "      <td>-2.333979</td>\n",
       "    </tr>\n",
       "    <tr>\n",
       "      <th>7</th>\n",
       "      <td>1.376256</td>\n",
       "      <td>-2.932480</td>\n",
       "      <td>0.109049</td>\n",
       "      <td>-1.335586</td>\n",
       "    </tr>\n",
       "    <tr>\n",
       "      <th>8</th>\n",
       "      <td>0.495624</td>\n",
       "      <td>-3.477197</td>\n",
       "      <td>0.400862</td>\n",
       "      <td>0.451219</td>\n",
       "    </tr>\n",
       "    <tr>\n",
       "      <th>9</th>\n",
       "      <td>1.168011</td>\n",
       "      <td>-2.635623</td>\n",
       "      <td>0.848129</td>\n",
       "      <td>-0.007764</td>\n",
       "    </tr>\n",
       "    <tr>\n",
       "      <th>10</th>\n",
       "      <td>1.553706</td>\n",
       "      <td>-2.016593</td>\n",
       "      <td>2.379186</td>\n",
       "      <td>-0.339335</td>\n",
       "    </tr>\n",
       "    <tr>\n",
       "      <th>11</th>\n",
       "      <td>0.669215</td>\n",
       "      <td>-1.441465</td>\n",
       "      <td>1.625746</td>\n",
       "      <td>-0.311225</td>\n",
       "    </tr>\n",
       "    <tr>\n",
       "      <th>12</th>\n",
       "      <td>0.180055</td>\n",
       "      <td>-0.764179</td>\n",
       "      <td>2.728583</td>\n",
       "      <td>-0.403795</td>\n",
       "    </tr>\n",
       "    <tr>\n",
       "      <th>13</th>\n",
       "      <td>-1.641594</td>\n",
       "      <td>0.276373</td>\n",
       "      <td>5.935038</td>\n",
       "      <td>1.358581</td>\n",
       "    </tr>\n",
       "    <tr>\n",
       "      <th>14</th>\n",
       "      <td>-2.141936</td>\n",
       "      <td>0.089501</td>\n",
       "      <td>5.084592</td>\n",
       "      <td>1.652994</td>\n",
       "    </tr>\n",
       "    <tr>\n",
       "      <th>15</th>\n",
       "      <td>-1.784739</td>\n",
       "      <td>-0.601330</td>\n",
       "      <td>-0.756129</td>\n",
       "      <td>0.542968</td>\n",
       "    </tr>\n",
       "    <tr>\n",
       "      <th>16</th>\n",
       "      <td>-1.908194</td>\n",
       "      <td>-0.341391</td>\n",
       "      <td>-1.174859</td>\n",
       "      <td>0.601986</td>\n",
       "    </tr>\n",
       "    <tr>\n",
       "      <th>17</th>\n",
       "      <td>-3.078959</td>\n",
       "      <td>-0.511410</td>\n",
       "      <td>-1.123026</td>\n",
       "      <td>1.019123</td>\n",
       "    </tr>\n",
       "    <tr>\n",
       "      <th>18</th>\n",
       "      <td>-1.865216</td>\n",
       "      <td>0.010997</td>\n",
       "      <td>-0.554032</td>\n",
       "      <td>-0.934510</td>\n",
       "    </tr>\n",
       "    <tr>\n",
       "      <th>19</th>\n",
       "      <td>-1.220997</td>\n",
       "      <td>0.405737</td>\n",
       "      <td>-0.782334</td>\n",
       "      <td>-0.966124</td>\n",
       "    </tr>\n",
       "    <tr>\n",
       "      <th>20</th>\n",
       "      <td>-3.372267</td>\n",
       "      <td>0.811917</td>\n",
       "      <td>-1.217966</td>\n",
       "      <td>-0.112291</td>\n",
       "    </tr>\n",
       "    <tr>\n",
       "      <th>21</th>\n",
       "      <td>-2.208867</td>\n",
       "      <td>0.520779</td>\n",
       "      <td>-1.801551</td>\n",
       "      <td>0.257853</td>\n",
       "    </tr>\n",
       "    <tr>\n",
       "      <th>22</th>\n",
       "      <td>-2.108498</td>\n",
       "      <td>0.380487</td>\n",
       "      <td>-2.362747</td>\n",
       "      <td>1.385620</td>\n",
       "    </tr>\n",
       "    <tr>\n",
       "      <th>23</th>\n",
       "      <td>-2.833232</td>\n",
       "      <td>0.480974</td>\n",
       "      <td>-1.462945</td>\n",
       "      <td>0.329507</td>\n",
       "    </tr>\n",
       "    <tr>\n",
       "      <th>24</th>\n",
       "      <td>-2.515425</td>\n",
       "      <td>1.066209</td>\n",
       "      <td>-1.301674</td>\n",
       "      <td>0.216056</td>\n",
       "    </tr>\n",
       "    <tr>\n",
       "      <th>25</th>\n",
       "      <td>-2.505513</td>\n",
       "      <td>1.582869</td>\n",
       "      <td>-1.757160</td>\n",
       "      <td>-0.194808</td>\n",
       "    </tr>\n",
       "    <tr>\n",
       "      <th>26</th>\n",
       "      <td>-3.338287</td>\n",
       "      <td>1.555585</td>\n",
       "      <td>-0.038108</td>\n",
       "      <td>-0.235643</td>\n",
       "    </tr>\n",
       "    <tr>\n",
       "      <th>27</th>\n",
       "      <td>-4.823969</td>\n",
       "      <td>3.955367</td>\n",
       "      <td>0.884989</td>\n",
       "      <td>-0.612688</td>\n",
       "    </tr>\n",
       "    <tr>\n",
       "      <th>28</th>\n",
       "      <td>-5.829220</td>\n",
       "      <td>5.049625</td>\n",
       "      <td>1.340967</td>\n",
       "      <td>-2.151142</td>\n",
       "    </tr>\n",
       "    <tr>\n",
       "      <th>29</th>\n",
       "      <td>1.881323</td>\n",
       "      <td>-0.200804</td>\n",
       "      <td>-1.365762</td>\n",
       "      <td>-1.140277</td>\n",
       "    </tr>\n",
       "    <tr>\n",
       "      <th>30</th>\n",
       "      <td>2.401472</td>\n",
       "      <td>-0.027509</td>\n",
       "      <td>-1.776263</td>\n",
       "      <td>-1.048823</td>\n",
       "    </tr>\n",
       "    <tr>\n",
       "      <th>31</th>\n",
       "      <td>2.724696</td>\n",
       "      <td>1.353011</td>\n",
       "      <td>-1.478679</td>\n",
       "      <td>-2.183784</td>\n",
       "    </tr>\n",
       "    <tr>\n",
       "      <th>32</th>\n",
       "      <td>3.347707</td>\n",
       "      <td>0.406728</td>\n",
       "      <td>-1.777156</td>\n",
       "      <td>0.818091</td>\n",
       "    </tr>\n",
       "    <tr>\n",
       "      <th>33</th>\n",
       "      <td>1.567005</td>\n",
       "      <td>0.813288</td>\n",
       "      <td>-1.507617</td>\n",
       "      <td>1.079627</td>\n",
       "    </tr>\n",
       "    <tr>\n",
       "      <th>34</th>\n",
       "      <td>2.422114</td>\n",
       "      <td>0.271078</td>\n",
       "      <td>-1.194686</td>\n",
       "      <td>4.903854</td>\n",
       "    </tr>\n",
       "    <tr>\n",
       "      <th>35</th>\n",
       "      <td>0.990184</td>\n",
       "      <td>-0.211396</td>\n",
       "      <td>-1.902125</td>\n",
       "      <td>2.867793</td>\n",
       "    </tr>\n",
       "    <tr>\n",
       "      <th>36</th>\n",
       "      <td>2.801989</td>\n",
       "      <td>-0.020517</td>\n",
       "      <td>-1.675644</td>\n",
       "      <td>-0.025708</td>\n",
       "    </tr>\n",
       "    <tr>\n",
       "      <th>37</th>\n",
       "      <td>3.626327</td>\n",
       "      <td>0.793817</td>\n",
       "      <td>-1.164250</td>\n",
       "      <td>-2.825977</td>\n",
       "    </tr>\n",
       "    <tr>\n",
       "      <th>38</th>\n",
       "      <td>4.313783</td>\n",
       "      <td>4.134848</td>\n",
       "      <td>0.061352</td>\n",
       "      <td>-0.606132</td>\n",
       "    </tr>\n",
       "    <tr>\n",
       "      <th>39</th>\n",
       "      <td>7.871981</td>\n",
       "      <td>7.446682</td>\n",
       "      <td>2.748843</td>\n",
       "      <td>1.258363</td>\n",
       "    </tr>\n",
       "  </tbody>\n",
       "</table>\n",
       "</div>"
      ],
      "text/plain": [
       "           0         1         2         3\n",
       "0   1.638548 -2.316269  1.266891 -2.153693\n",
       "1   0.280055 -1.866923  1.302688 -0.776479\n",
       "2  -0.149636 -2.433524  0.165711  0.210383\n",
       "3  -0.124908 -2.584653  0.624249 -0.419475\n",
       "4   0.509691 -2.652340  0.016879  1.265316\n",
       "5  -0.080630 -2.346694  0.248327  0.899906\n",
       "6   1.712343 -2.023573  0.402632 -2.333979\n",
       "7   1.376256 -2.932480  0.109049 -1.335586\n",
       "8   0.495624 -3.477197  0.400862  0.451219\n",
       "9   1.168011 -2.635623  0.848129 -0.007764\n",
       "10  1.553706 -2.016593  2.379186 -0.339335\n",
       "11  0.669215 -1.441465  1.625746 -0.311225\n",
       "12  0.180055 -0.764179  2.728583 -0.403795\n",
       "13 -1.641594  0.276373  5.935038  1.358581\n",
       "14 -2.141936  0.089501  5.084592  1.652994\n",
       "15 -1.784739 -0.601330 -0.756129  0.542968\n",
       "16 -1.908194 -0.341391 -1.174859  0.601986\n",
       "17 -3.078959 -0.511410 -1.123026  1.019123\n",
       "18 -1.865216  0.010997 -0.554032 -0.934510\n",
       "19 -1.220997  0.405737 -0.782334 -0.966124\n",
       "20 -3.372267  0.811917 -1.217966 -0.112291\n",
       "21 -2.208867  0.520779 -1.801551  0.257853\n",
       "22 -2.108498  0.380487 -2.362747  1.385620\n",
       "23 -2.833232  0.480974 -1.462945  0.329507\n",
       "24 -2.515425  1.066209 -1.301674  0.216056\n",
       "25 -2.505513  1.582869 -1.757160 -0.194808\n",
       "26 -3.338287  1.555585 -0.038108 -0.235643\n",
       "27 -4.823969  3.955367  0.884989 -0.612688\n",
       "28 -5.829220  5.049625  1.340967 -2.151142\n",
       "29  1.881323 -0.200804 -1.365762 -1.140277\n",
       "30  2.401472 -0.027509 -1.776263 -1.048823\n",
       "31  2.724696  1.353011 -1.478679 -2.183784\n",
       "32  3.347707  0.406728 -1.777156  0.818091\n",
       "33  1.567005  0.813288 -1.507617  1.079627\n",
       "34  2.422114  0.271078 -1.194686  4.903854\n",
       "35  0.990184 -0.211396 -1.902125  2.867793\n",
       "36  2.801989 -0.020517 -1.675644 -0.025708\n",
       "37  3.626327  0.793817 -1.164250 -2.825977\n",
       "38  4.313783  4.134848  0.061352 -0.606132\n",
       "39  7.871981  7.446682  2.748843  1.258363"
      ]
     },
     "execution_count": 55,
     "metadata": {},
     "output_type": "execute_result"
    }
   ],
   "source": [
    "data_pca = data_pca[[\"0\",\"1\",\"2\",\"3\"]]\n",
    "data_pca"
   ]
  },
  {
   "cell_type": "code",
   "execution_count": 56,
   "metadata": {},
   "outputs": [
    {
     "data": {
      "image/png": "[encoded data removed]",
      "text/plain": [
       "<Figure size 1152x1152 with 1 Axes>"
      ]
     },
     "metadata": {
      "needs_background": "light"
     },
     "output_type": "display_data"
    }
   ],
   "source": [
    "plt.figure(figsize =(16, 16)) \n",
    "\n",
    "plt.title('Visualising the data') \n",
    "\n",
    "Dendrogram = shc.dendrogram((shc.linkage(data_pca, method ='ward')))"
   ]
  },
  {
   "cell_type": "code",
   "execution_count": 57,
   "metadata": {},
   "outputs": [
    {
     "data": {
      "image/png": "[encoded data removed]",
      "text/plain": [
       "<Figure size 432x288 with 1 Axes>"
      ]
     },
     "metadata": {
      "needs_background": "light"
     },
     "output_type": "display_data"
    }
   ],
   "source": [
    "silhouette_scores = [] \n",
    "\n",
    "for n_cluster in range(2, 8):\n",
    "    silhouette_scores.append( \n",
    "        silhouette_score(data_pca, AgglomerativeClustering(n_clusters = n_cluster).fit_predict(data_pca))) \n",
    "    \n",
    "# Plotting a bar graph to compare the results \n",
    "k = [2, 3, 4, 5, 6,7] \n",
    "plt.bar(k, silhouette_scores) \n",
    "plt.xlabel('Number of clusters', fontsize = 10) \n",
    "plt.ylabel('Silhouette Score', fontsize = 10) \n",
    "plt.show() "
   ]
  },
  {
   "cell_type": "code",
   "execution_count": 58,
   "metadata": {},
   "outputs": [
    {
     "data": {
      "text/plain": [
       "AgglomerativeClustering(n_clusters=3)"
      ]
     },
     "execution_count": 58,
     "metadata": {},
     "output_type": "execute_result"
    }
   ],
   "source": [
    "agg = AgglomerativeClustering(n_clusters=3, affinity = 'euclidean', linkage = 'ward')\n",
    "agg.fit(data_pca)"
   ]
  },
  {
   "cell_type": "code",
   "execution_count": 59,
   "metadata": {},
   "outputs": [
    {
     "data": {
      "image/png": "[encoded data removed]",
      "text/plain": [
       "<Figure size 432x288 with 1 Axes>"
      ]
     },
     "metadata": {
      "needs_background": "light"
     },
     "output_type": "display_data"
    }
   ],
   "source": [
    "# Visualizing the clustering \n",
    "plt.scatter(data_pca[\"0\"], data_pca[\"2\"],  \n",
    "           c = AgglomerativeClustering(n_clusters = 3).fit_predict(data_pca)) \n",
    "plt.show()"
   ]
  },
  {
   "cell_type": "code",
   "execution_count": 60,
   "metadata": {},
   "outputs": [],
   "source": [
    "preds = agg.fit_predict(data_pca)"
   ]
  },
  {
   "cell_type": "code",
   "execution_count": 61,
   "metadata": {},
   "outputs": [],
   "source": [
    "data_pca['preds'] = preds"
   ]
  },
  {
   "cell_type": "code",
   "execution_count": 62,
   "metadata": {
    "scrolled": true
   },
   "outputs": [
    {
     "data": {
      "text/plain": [
       "[<matplotlib.lines.Line2D at 0x7fbe801187d0>]"
      ]
     },
     "execution_count": 62,
     "metadata": {},
     "output_type": "execute_result"
    },
    {
     "data": {
      "image/png": "[encoded data removed]",
      "text/plain": [
       "<Figure size 432x288 with 1 Axes>"
      ]
     },
     "metadata": {
      "needs_background": "light"
     },
     "output_type": "display_data"
    }
   ],
   "source": [
    "plt.plot(data_pca.index, data_pca['preds'].tolist())"
   ]
  },
  {
   "cell_type": "code",
   "execution_count": 63,
   "metadata": {},
   "outputs": [
    {
     "data": {
      "text/plain": [
       "array([1, 1, 1, 1, 1, 1, 1, 1, 1, 1, 1, 1, 1, 1, 1, 0, 0, 0, 0, 0, 0, 0,\n",
       "       0, 0, 0, 0, 0, 0, 0, 2, 2, 2, 2, 2, 2, 2, 2, 2, 2, 2], dtype=int32)"
      ]
     },
     "execution_count": 63,
     "metadata": {},
     "output_type": "execute_result"
    }
   ],
   "source": [
    "kmeans = KMeans(n_clusters=3, random_state=42).fit(data_pca)\n",
    "kmeans.labels_"
   ]
  },
  {
   "cell_type": "code",
   "execution_count": 64,
   "metadata": {},
   "outputs": [
    {
     "data": {
      "image/png": "[encoded data removed]",
      "text/plain": [
       "<Figure size 432x288 with 1 Axes>"
      ]
     },
     "metadata": {
      "needs_background": "light"
     },
     "output_type": "display_data"
    }
   ],
   "source": [
    "# Visualizing the clustering \n",
    "plt.scatter(data_pca[\"0\"], data_pca[\"1\"],  \n",
    "           c = kmeans.labels_)\n",
    "plt.show() "
   ]
  },
  {
   "cell_type": "code",
   "execution_count": 65,
   "metadata": {},
   "outputs": [],
   "source": [
    "preds = kmeans.fit_predict(data_pca)"
   ]
  },
  {
   "cell_type": "code",
   "execution_count": 66,
   "metadata": {},
   "outputs": [],
   "source": [
    "data_pca['preds'] = preds"
   ]
  },
  {
   "cell_type": "code",
   "execution_count": 67,
   "metadata": {},
   "outputs": [
    {
     "data": {
      "text/plain": [
       "[<matplotlib.lines.Line2D at 0x7fbe83293190>]"
      ]
     },
     "execution_count": 67,
     "metadata": {},
     "output_type": "execute_result"
    },
    {
     "data": {
      "image/png": "[encoded data removed]",
      "text/plain": [
       "<Figure size 432x288 with 1 Axes>"
      ]
     },
     "metadata": {
      "needs_background": "light"
     },
     "output_type": "display_data"
    }
   ],
   "source": [
    "plt.plot(data_pca.index, data_pca['preds'].tolist())"
   ]
  }
 ],
 "metadata": {
  "kernelspec": {
   "display_name": "Python 3",
   "language": "python",
   "name": "python3"
  },
  "language_info": {
   "codemirror_mode": {
    "name": "ipython",
    "version": 3
   },
   "file_extension": ".py",
   "mimetype": "text/x-python",
   "name": "python",
   "nbconvert_exporter": "python",
   "pygments_lexer": "ipython3",
   "version": "3.7.6"
  }
 },
 "nbformat": 4,
 "nbformat_minor": 4
}
